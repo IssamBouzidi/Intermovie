{
 "metadata": {
  "language_info": {
   "codemirror_mode": {
    "name": "ipython",
    "version": 3
   },
   "file_extension": ".py",
   "mimetype": "text/x-python",
   "name": "python",
   "nbconvert_exporter": "python",
   "pygments_lexer": "ipython3",
   "version": "3.7.9-final"
  },
  "orig_nbformat": 2,
  "kernelspec": {
   "name": "Python 3.7.9 64-bit ('MoviesEnv': conda)",
   "display_name": "Python 3.7.9 64-bit ('MoviesEnv': conda)",
   "metadata": {
    "interpreter": {
     "hash": "bb8f3b6c4bd4373d968e1fa4c1937ac24a35c457224e96e54e61e8e565f8c109"
    }
   }
  }
 },
 "nbformat": 4,
 "nbformat_minor": 2,
 "cells": [
  {
   "cell_type": "code",
   "execution_count": 1,
   "metadata": {},
   "outputs": [],
   "source": [
    "import pandas as pd\n",
    "import os\n",
    "import sys\n",
    "import numpy as np"
   ]
  },
  {
   "source": [
    "## Chargement des données"
   ],
   "cell_type": "markdown",
   "metadata": {}
  },
  {
   "cell_type": "code",
   "execution_count": 2,
   "metadata": {
    "tags": []
   },
   "outputs": [],
   "source": [
    "src_path = os.path.dirname(os.path.realpath('__file__'))\n",
    "data_path = os.path.join(os.path.dirname(src_path), 'data')\n",
    "\n",
    "name_basics_file = os.path.join(data_path, 'name.basics.tsv')\n",
    "title_akas_file = os.path.join(data_path, 'title.akas.tsv')\n",
    "title_basics_file = os.path.join(data_path, 'title.basics.tsv')\n",
    "title_principals_file = os.path.join(data_path, 'title.principals.tsv')\n",
    "title_ratings_file = os.path.join(data_path, 'title.ratings.tsv')\n",
    "\n",
    "# df_name_basics = pd.read_table(name_basics_file, nrows=100000)\n",
    "# df_title_akas = pd.read_table(title_akas_file, nrows=100000)\n",
    "# df_title_basics = pd.read_table(title_basics_file, nrows=100000)\n",
    "# df_title_principals = pd.read_table(title_principals_file, nrows=100000)\n",
    "# df_title_ratings = pd.read_table(title_ratings_file, nrows=100000)"
   ]
  },
  {
   "cell_type": "code",
   "execution_count": 6,
   "metadata": {},
   "outputs": [],
   "source": [
    "df_title_ratings = pd.read_table(title_ratings_file)"
   ]
  },
  {
   "source": [
    "## Question 1: La liste des acteurs par film"
   ],
   "cell_type": "markdown",
   "metadata": {}
  },
  {
   "cell_type": "code",
   "execution_count": 3,
   "metadata": {},
   "outputs": [],
   "source": [
    "# get only people who have job 'actor' and 'actress'\n",
    "df_principals = df_title_principals.loc[df_title_principals['category'].isin(['actor', 'actress'])].filter(['tconst', 'nconst']).drop_duplicates()\n",
    "\n",
    "# merge principals with actors\n",
    "df_principals_actor_assoc = pd.merge(df_principals, df_name_basics, how='inner', on='nconst')[['tconst', 'nconst', 'primaryName']].drop_duplicates()\n",
    "\n",
    "# merge films with actors\n",
    "df_principals_film_actor_assoc = pd.merge(df_principals_actor_assoc, df_title_basics, on='tconst')[['originalTitle', 'primaryName']].drop_duplicates()\n",
    "\n",
    "# group actors by film\n",
    "df_actors_groupes_by_films = df_principals_film_actor_assoc.groupby(['originalTitle'])['primaryName'].apply(','.join).reset_index()"
   ]
  },
  {
   "source": [
    "## Question 2: La liste des films Américains (en gardant leur nom en français) et leur note moyenne"
   ],
   "cell_type": "markdown",
   "metadata": {}
  },
  {
   "cell_type": "code",
   "execution_count": 22,
   "metadata": {},
   "outputs": [],
   "source": [
    "# get only movies distriuted in US\n",
    "df_akas_us = df_title_akas.loc[df_title_akas['region'] == \"US\"].filter(['titleId', 'title', 'region'])\n",
    "df_akas_us.rename(columns = {'title': 'title_us', 'region': 'region_us'}, inplace = True)\n",
    "\n",
    "# get only movies distriuted in FR\n",
    "df_akas_fr = df_title_akas.loc[df_title_akas['region'] == \"FR\"].filter(['titleId', 'title', 'region'])\n",
    "df_akas_fr.rename(columns = {'title': 'title_fr', 'region': 'region_fr'}, inplace = True)\n",
    "\n",
    "# merge movies distributed in US and in FR\n",
    "df_akas_merged = pd.merge(df_akas_us, df_akas_fr, how='left', on='titleId')\n",
    "\n",
    "# create new column \"is_title_fr\" to describe if movie has english title or only french title\n",
    "df_akas_merged['is_title_fr'] = np.where(df_akas_merged['title_fr'].isnull(), False, True)\n",
    "\n",
    "# remove US title if FR title exists\n",
    "df_akas_merged['title_us'] = np.where(df_akas_merged['title_fr'].notnull(), '', df_akas_merged['title_us'])\n",
    "\n",
    "# merge with rating\n",
    "df_rating_akas = pd.merge(df_akas_merged, df_title_ratings, how='inner', right_on='tconst', left_on='titleId')\n",
    "\n",
    "# remove columns\n",
    "df_rating_akas = df_rating_akas.filter(['titleId', 'title_fr', 'title_us', 'is_title_fr', 'averageRating'])"
   ]
  },
  {
   "source": [
    "## Question 3: Les notes moyennes des différents genres"
   ],
   "cell_type": "markdown",
   "metadata": {}
  },
  {
   "cell_type": "code",
   "execution_count": 23,
   "metadata": {},
   "outputs": [],
   "source": [
    "# split column gere by ','\n",
    "new_df_dropna = df_title_basics[['tconst', 'genres']].dropna()\n",
    "new_df_filtred = new_df_dropna[new_df_dropna['genres'] != '\\\\N']\n",
    "\n",
    "new_df = pd.DataFrame(new_df_filtred.genres.str.split(',').tolist(), index = new_df_filtred.tconst).stack()\n",
    "\n",
    "# define 'tconst' as index\n",
    "new_df = new_df.reset_index([0, 'tconst'])\n",
    "\n",
    "# rename columns\n",
    "new_df.columns = ['tconst', 'genre']\n",
    "\n",
    "# merge new df with rating dataframe\n",
    "merge_genre_rating = pd.merge(new_df, df_title_ratings, how = 'inner', on = 'tconst')\n",
    "\n",
    "# keep only titles 'genre' and 'averageRating'\n",
    "merge_genre_rating = merge_genre_rating.filter(['genre', 'averageRating'])\n",
    "\n",
    "# calcul of average by genre\n",
    "avg_rating_genre = merge_genre_rating.groupby('genre').mean('averageRating')\n",
    "\n",
    "# round average rating to 2 decimals\n",
    "avg_rating_genre = avg_rating_genre['averageRating'].round(decimals=2)"
   ]
  },
  {
   "source": [
    "## Bonus 1: Générer des recommandations"
   ],
   "cell_type": "markdown",
   "metadata": {}
  },
  {
   "cell_type": "code",
   "execution_count": 55,
   "metadata": {
    "tags": []
   },
   "outputs": [],
   "source": [
    "## create a dataset of users\n",
    "users = []\n",
    "user = []\n",
    "import random\n",
    "\n",
    "movie_list = df_title_basics['tconst'].to_list()\n",
    "\n",
    "df = pd.DataFrame(columns=['userId', 'tconst', 'averageRating'])\n",
    "index = 0\n",
    "\n",
    "for i in range(1, 11):\n",
    "    for j in range(1, 21):\n",
    "        index += 1\n",
    "        df.loc[index, 'userId'] = i\n",
    "        df.loc[index, 'tconst'] = random.choice(movie_list)\n",
    "        df.loc[index, 'averageRating'] = format(random.uniform(3, 9), '.1f')\n",
    "        \n",
    "df.to_csv('../data/users.tsv', sep ='\\t')\n",
    "    "
   ]
  },
  {
   "cell_type": "code",
   "execution_count": 6,
   "metadata": {},
   "outputs": [],
   "source": [
    "src_path = os.path.dirname(os.path.realpath('__file__'))\n",
    "data_path = os.path.join(os.path.dirname(src_path), 'data')\n",
    "\n",
    "title_basics_file = os.path.join(data_path, 'title.basics.tsv')\n",
    "title_ratings_file = os.path.join(data_path, 'title.ratings.tsv')\n",
    "users_file = os.path.join(data_path, 'users.csv')\n",
    "\n",
    "df_title_basics = pd.read_table(title_basics_file, nrows=1, usecols = ['tconst', 'primaryTitle'])\n",
    "df_title_ratings = pd.read_table(title_ratings_file, nrows=1)\n",
    "df_users = pd.read_csv(users_file)\n"
   ]
  },
  {
   "cell_type": "code",
   "execution_count": null,
   "metadata": {},
   "outputs": [],
   "source": [
    "# Chargement des movies avec leurs raiting et vote\n"
   ]
  }
 ]
}