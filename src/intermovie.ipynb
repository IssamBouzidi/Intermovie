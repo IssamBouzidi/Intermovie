{
 "metadata": {
  "language_info": {
   "codemirror_mode": {
    "name": "ipython",
    "version": 3
   },
   "file_extension": ".py",
   "mimetype": "text/x-python",
   "name": "python",
   "nbconvert_exporter": "python",
   "pygments_lexer": "ipython3",
   "version": "3.7.9-final"
  },
  "orig_nbformat": 2,
  "kernelspec": {
   "name": "Python 3.7.9 64-bit ('Intermovie': conda)",
   "display_name": "Python 3.7.9 64-bit ('Intermovie': conda)",
   "metadata": {
    "interpreter": {
     "hash": "3cf62117053df7fd5c4c0ee66eb349d668c7f1d8bb37326efd815d96785ee10c"
    }
   }
  }
 },
 "nbformat": 4,
 "nbformat_minor": 2,
 "cells": [
  {
   "source": [
    "# Analysis movies"
   ],
   "cell_type": "markdown",
   "metadata": {}
  },
  {
   "cell_type": "code",
   "execution_count": 1,
   "metadata": {
    "tags": []
   },
   "outputs": [],
   "source": [
    "#import \n",
    "%reload_ext autoreload\n",
    "%autoreload 2\n",
    "import pandas as pd \n",
    "import numpy as np\n",
    "import get_files as gf"
   ]
  },
  {
   "source": [
    "# Bonus 2: Récupérer et extraire le jeu de données fourni de manière automatique"
   ],
   "cell_type": "markdown",
   "metadata": {}
  },
  {
   "cell_type": "code",
   "execution_count": 2,
   "metadata": {
    "tags": []
   },
   "outputs": [
    {
     "output_type": "stream",
     "name": "stdout",
     "text": "data.zip existe déja\ndata existe déja\n"
    }
   ],
   "source": [
    "url_file ='https://stdatalake005.blob.core.windows.net/public/movies_dataset.zip'\n",
    "gf.download_file(url_file)"
   ]
  },
  {
   "source": [
    "# Chargement des données \n"
   ],
   "cell_type": "markdown",
   "metadata": {
    "tags": []
   }
  },
  {
   "source": [
    "\n",
    "# chagement du fichier name.basics.tsv\n",
    "df_name_basics= pd.read_csv('../../data/name.basics.tsv', sep ='\\t', na_values = [\"\\\\N\", \"nan\"])\n",
    "\n",
    "\n",
    "# chargement du fichier title.principals.tsv\n",
    "df_title_principals = pd.read_csv('../../data/title.principals.tsv',sep ='\\t', na_values = [\"\\\\N\", \"nan\"])\n",
    "\n",
    "\n",
    "# chargement du fichier title.basics.tsv\n",
    "df_title_basics = pd.read_csv('../../data/title.basics.tsv', sep ='\\t', na_values = ['\\\\N', 'nan'])\n",
    "\n",
    "# chargement du fichier title.akas.tsv\n",
    "df_title_akas = pd.read_csv('../../data/title.akas.tsv', delimiter ='\\t', na_values =[\"\\\\N\", \"nan\"])\n",
    "\n",
    "\n",
    "# chargement du fichier title.ratings.tsv\n",
    "df_title_ratings= pd.read_csv('../../data/title.ratings.tsv', sep ='\\t', na_values = [\"\\\\N\", \"nan\"])\n",
    "\n",
    "\n"
   ],
   "cell_type": "code",
   "metadata": {
    "tags": []
   },
   "execution_count": 3,
   "outputs": []
  },
  {
   "source": [
    "# 1. Liste des Acteurs par Films"
   ],
   "cell_type": "markdown",
   "metadata": {
    "tags": []
   }
  },
  {
   "cell_type": "code",
   "execution_count": 4,
   "metadata": {},
   "outputs": [],
   "source": [
    "\n",
    "df_name_basics = df_name_basics.drop_duplicates()\n",
    "df_name_basics_filter = df_name_basics.filter(['nconst','primaryName'])\n",
    "\n",
    "df_title_principals = df_title_principals.drop_duplicates()\n",
    "df_title_principals_filter = df_title_principals.filter(['tconst','nconst', 'category'])\n",
    "\n",
    "df_title_principals_actor = df_title_principals_filter.loc[(df_title_principals_filter['category']== 'actor') | (df_title_principals_filter['category']== 'actress')]\n",
    "df_title_principals_actor = df_title_principals_actor.filter(['tconst','nconst'])\n",
    "\n",
    "df_title_basics = df_title_basics.drop_duplicates()\n",
    "df_title_basics_movies = df_title_basics[(df_title_basics.titleType == \"movie\") | (df_title_basics.titleType == \"tvMovie\")]\n",
    "df_title_basics_movies = df_title_basics_movies.filter(['tconst','originalTitle'])\n",
    "\n",
    "df_merge_actor = pd.merge(df_name_basics_filter,df_title_principals_actor, on = \"nconst\", how ='inner')\n",
    "df_merge_actor_movie = pd.merge(df_merge_actor,df_title_basics_movies, on=\"tconst\", how =\"inner\")\n",
    "df_merge_actor_movie_filter = df_merge_actor_movie[[\"originalTitle\",\"primaryName\"]]\n",
    "df_merge_actor_movies = df_merge_actor_movie_filter.groupby(['originalTitle'])['primaryName'].apply(','.join).reset_index()\n",
    "\n",
    "df_merge_actor_movies.to_csv('../OUT/actor_movies.csv', sep ='\\t')\n",
    "\n",
    "del(df_name_basics_filter,df_title_principals_filter,df_title_principals_actor,df_title_basics_movies,df_merge_actor,df_merge_actor_movie_filter,df_merge_actor_movies)\n"
   ]
  },
  {
   "source": [
    "# 2. Liste des Films Américains "
   ],
   "cell_type": "markdown",
   "metadata": {}
  },
  {
   "cell_type": "code",
   "execution_count": 6,
   "metadata": {},
   "outputs": [],
   "source": [
    "# get only movies distriuted in US\n",
    "df_akas_us = df_title_akas.loc[df_title_akas['region'] == \"US\"].filter(['titleId', 'title', 'region'])\n",
    "df_akas_us.rename(columns = {'title': 'title_us', 'region': 'region_us'}, inplace = True)\n",
    "\n",
    "# get only movies distriuted in FR\n",
    "df_akas_fr = df_title_akas.loc[df_title_akas['region'] == \"FR\"].filter(['titleId', 'title', 'region'])\n",
    "df_akas_fr.rename(columns = {'title': 'title_fr', 'region': 'region_fr'}, inplace = True)\n",
    "\n",
    "# merge movies distributed in US and in FR\n",
    "df_akas_merged = pd.merge(df_akas_us, df_akas_fr, how='left', on='titleId')\n",
    "\n",
    "# create new column \"is_title_fr\" to describe if movie has english title or only french title\n",
    "df_akas_merged['is_title_fr'] = np.where(df_akas_merged['title_fr'].isnull(), False, True)\n",
    "\n",
    "# remove US title if FR title exists\n",
    "df_akas_merged['title_us'] = np.where(df_akas_merged['title_fr'].notnull(), '', df_akas_merged['title_us'])\n",
    "\n",
    "# merge with rating\n",
    "df_rating_akas = pd.merge(df_akas_merged, df_title_ratings, how='inner', right_on='tconst', left_on='titleId')\n",
    "\n",
    "# remove columns\n",
    "df_rating_akas = df_rating_akas.filter(['titleId', 'title_fr', 'title_us', 'is_title_fr', 'averageRating'])\n",
    "# generate csv file\n",
    "df_rating_akas.to_csv('../OUT/american_movies.csv',sep ='\\t')\n",
    "\n",
    "del(df_akas_fr, df_akas_us, df_akas_merged, df_rating_akas)\n"
   ]
  },
  {
   "source": [
    "# 3. Les notes moyennes des différents genres"
   ],
   "cell_type": "markdown",
   "metadata": {}
  },
  {
   "cell_type": "code",
   "execution_count": 8,
   "metadata": {},
   "outputs": [],
   "source": [
    "# split column gere by ','\n",
    "df_title_basic_filter = df_title_basics[['tconst', 'genres']].dropna()\n",
    "df_title_basic_genre = pd.DataFrame(df_title_basic_filter.genres.str.split(',').tolist(), index = df_title_basic_filter.tconst).stack()\n",
    "\n",
    "# define 'tconst' as index\n",
    "df_title_basic_genre = df_title_basic_genre.reset_index([0, 'tconst'])\n",
    "\n",
    "# rename columns\n",
    "df_title_basic_genre.columns = ['tconst', 'genre']\n",
    "\n",
    "# merge new df with rating dataframe\n",
    "merge_genre_rating = pd.merge(df_title_basic_genre, df_title_ratings, how = 'inner', on = 'tconst')\n",
    "\n",
    "# keep only titles 'genre' and 'averageRating'\n",
    "merge_genre_rating = merge_genre_rating.filter(['genre', 'averageRating'])\n",
    "\n",
    "# calcul of average by genre\n",
    "avg_rating_genre = merge_genre_rating.groupby('genre').mean('averageRating')\n",
    "\n",
    "avg_rating_genre = avg_rating_genre['averageRating'].round(decimals=2)\n",
    "\n",
    "# avg_rating_genre to csv\n",
    "avg_rating_genre.to_csv('../OUT/genre_average.csv',sep ='\\t')\n",
    "\n",
    "del(df_title_basic_filter,df_title_basic_genre,merge_genre_rating,avg_rating_genre)"
   ]
  },
  {
   "source": [
    "# 4. Note moyenne des acteurs par rapport aux films"
   ],
   "cell_type": "markdown",
   "metadata": {}
  },
  {
   "cell_type": "code",
   "execution_count": 5,
   "metadata": {},
   "outputs": [],
   "source": [
    "\n",
    "df_merge_actor_moy= df_merge_actor_movie[[\"primaryName\",\"originalTitle\",\"tconst\"]]\n",
    "\n",
    "df_title_ratings_filter = df_title_ratings.filter(['tconst', 'averageRating'])\n",
    "\n",
    "df_merge_actor_moy_note = pd.merge(df_merge_actor_moy,df_title_ratings_filter, on ='tconst', how = 'inner')\n",
    "df_merge_actor_moy_note = df_merge_actor_moy_note.groupby(['primaryName'])['averageRating'].mean()\n",
    "\n",
    "df_merge_actor_moy_note.to_csv('../OUT/actor_average.csv',sep ='\\t')\n",
    "\n",
    "\n",
    "\n",
    "\n",
    "\n"
   ]
  },
  {
   "source": [
    "# Bonus 1: Générer des recommandations de nouveaux films en fonction de l'historique de l'utilisateur."
   ],
   "cell_type": "markdown",
   "metadata": {}
  },
  {
   "source": [
    "#### Creer un fichier tsv qui contient des utilisateurs et leurs notes sur des films, les films et les notes sont recupérés aléatoirement\n",
    "la procédure est la suivante:  \n",
    "1. creer une liste d'utilisateurs avec un historique de films notés  \n",
    "2. separer les genres de chaque film si un film est de plusieurs genres  \n",
    "3. merger les films avec leurs genres(on va avoir des lignes dupliquées de films mais avec genre differents)  \n",
    "4. associer apres, chaque film avec son rating  \n",
    "5. récuperer les utilisateurs avec le genre le mieux notés  \n",
    "6. applicquer la formule Weighted Average Ratings de IMDB, sa formule est:  \n",
    "WeightedRating(WR)=((v/v+m) \\* R) + ((m/v+m) \\* C)  \n",
    "7. trier les films par les mieux notés  \n",
    "8. enregistrer dans un fichier CSV"
   ],
   "cell_type": "markdown",
   "metadata": {}
  },
  {
   "cell_type": "code",
   "execution_count": null,
   "metadata": {},
   "outputs": [],
   "source": [
    "# recuperer les id des titres dans une liste\n",
    "movie_list = df_title_basics['tconst'].to_list()\n",
    "\n",
    "# creer une dataframe pour \n",
    "df = pd.DataFrame(columns=['userId', 'tconst', 'averageRating'])\n",
    "index = 0\n",
    "\n",
    "# remplir le dataframe par l'historique des utilisateurs\n",
    "for i in range(1, 11):\n",
    "    for j in range(1, 21):\n",
    "        index += 1\n",
    "        df.loc[index, 'userId'] = i\n",
    "        df.loc[index, 'tconst'] = random.choice(movie_list)\n",
    "        df.loc[index, 'averageRating'] = format(random.uniform(3, 9), '.1f')\n",
    "\n",
    "# enregistrer le fichier\n",
    "df.to_csv('../../data/users.tsv', sep ='\\t', index = False)\n",
    "\n",
    "# creer le dataset user\n",
    "df_users = pd.read_csv('../../data/users.tsv', sep ='\\t')\n",
    "\n",
    "# definir un dataset de movies pour le bonus 1\n",
    "df_title_basics_bonus_1 = df_title_basics[['tconst', 'primaryTitle', 'genres']]\n",
    "\n",
    "# supprimer les valeurs nulle\n",
    "df_title_basics_na = df_title_basics_bonus_1.dropna()\n",
    "df_title_basics_cleaned = df_title_basics_na[df_title_basics_na['genres'] != '\\\\N']\n",
    "\n",
    "# dupliquer les lignes par genres\n",
    "df_title_by_genre = pd.DataFrame(\n",
    "    df_title_basics_cleaned.genres.str.split(',').tolist(), \n",
    "    index = df_title_basics_cleaned.tconst).stack()\n",
    "\n",
    "# redefinir l'index\n",
    "df_title_by_genre = df_title_by_genre.reset_index([0, 'tconst'])\n",
    "\n",
    "# rennomer les comonnes\n",
    "df_title_by_genre.columns = ['tconst', 'genre']\n",
    "\n",
    "# merger les films avec leurs genres\n",
    "df_title_splited = pd.merge(\n",
    "    df_title_basics_bonus_1.filter(['tconst' , 'primaryTitle']),\n",
    "    df_title_by_genre, \n",
    "    how = 'inner', \n",
    "    on = 'tconst')\n",
    "\n",
    "# merger les films avec leurs ratings\n",
    "df_title_rating_merged = pd.merge(\n",
    "    df_title_splited,\n",
    "    df_title_ratings,\n",
    "    how = 'inner', \n",
    "    on = 'tconst'\n",
    ")\n",
    "\n",
    "# recuperer le genre le mieux notés par chaque utilisateur\n",
    "df_users_merged = pd.merge(df_users, df_title_by_genre, how='inner', on='tconst')\n",
    "df_users_best_notes = df_users_merged.groupby(['userId','genre'])['averageRating'].mean()\n",
    "df_users_best_notes = df_users_best_notes.reset_index()\n",
    "df_users_best_notes = df_users_best_notes.sort_values(by=['userId', 'averageRating'], ascending=[1, 0])\n",
    "df_users_best_notes = df_users_best_notes.groupby('userId').head(1)\n",
    "\n",
    "# Fonction qui permet de calculer le weighted rating pour chaque film\n",
    "# v: nombre de votes pour le film\n",
    "# R: note moyenne pour un film\n",
    "# m: nombre de vote minimal pour que le film soit evalué\n",
    "# C: la valeur moyenne des votes\n",
    "def weighted_rating(x, m=m, C=C):\n",
    "    v = x['numVotes']\n",
    "    R = x['averageRating']\n",
    "    \n",
    "    return (v/(v+m) * R) + (m/(m+v) * C)\n",
    "\n",
    "# calcul de la valeur moyenne des votes\n",
    "C = df_title_rating_merged['averageRating'].mean()\n",
    "\n",
    "# Calcul du nombre minimum de votes requis pour figurer dans le tableau. \n",
    "# on a definit 90% comme seuil\n",
    "# pour qu'un film figure dans les classements, il doit avoir plus de votes qu'au moins 90% des films de la liste.\n",
    "m = df_title_rating_merged['numVotes'].quantile(0.90)\n",
    "\n",
    "# garder seulement les films que leurs nombre de votes et supperieur à la seuil\n",
    "q_movies = df_title_rating_merged.copy().loc[df_title_rating_merged['numVotes'] >= m]\n",
    "\n",
    "# ajouter une colonne Score qui contiendra la valeur retournée par la fonction `weighted_rating()`\n",
    "q_movies['score'] = q_movies.apply(weighted_rating, axis=1)\n",
    "\n",
    "# trier les films par score\n",
    "q_movies = q_movies.sort_values('score', ascending=False)\n",
    "\n",
    "#Print the top 15 movies\n",
    "q_movies[['tconst', 'primaryTitle', 'numVotes', 'averageRating', 'genre', 'score']].head(20)\n",
    "\n",
    "# recuperer le film le mieux évalué dans chaque genre\n",
    "best_movies_score = q_movies.groupby(['genre', 'tconst'], sort=False)['score'].max().reset_index()\n",
    "best_movies_score = best_movies_score.groupby('genre').head(1)\n",
    "\n",
    "# creer dataframe films recommendés\n",
    "# recommendé un film à chaque utilisateur en se basanr le genre le mieux noté par chaque utilisateur\n",
    "df_users_recommended_movies = pd.merge(df_users_best_notes, best_movies_score, how='inner', on='genre')\n",
    "recommended_movies = pd.merge(df_users_recommended_movies, df_title_basics_bonus_1, how='inner', on='tconst')\n",
    "\n",
    "# ecriture du fichier\n",
    "recommended_movies['score'] = (recommended_movies['score'].round(decimals=2) * 10)\n",
    "recommended_movies[['userId', 'primaryTitle', 'genre', 'score']].to_csv('../OUT/recommended_movies.tsv', sep ='\\t', index = False)"
   ]
  }
 ]
}