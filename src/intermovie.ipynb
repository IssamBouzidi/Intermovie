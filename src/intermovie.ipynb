{
 "metadata": {
  "language_info": {
   "codemirror_mode": {
    "name": "ipython",
    "version": 3
   },
   "file_extension": ".py",
   "mimetype": "text/x-python",
   "name": "python",
   "nbconvert_exporter": "python",
   "pygments_lexer": "ipython3",
   "version": "3.7.9-final"
  },
  "orig_nbformat": 2,
  "kernelspec": {
   "name": "Python 3.7.9 64-bit ('Intermovie': conda)",
   "display_name": "Python 3.7.9 64-bit ('Intermovie': conda)",
   "metadata": {
    "interpreter": {
     "hash": "3cf62117053df7fd5c4c0ee66eb349d668c7f1d8bb37326efd815d96785ee10c"
    }
   }
  }
 },
 "nbformat": 4,
 "nbformat_minor": 2,
 "cells": [
  {
   "source": [
    "# Analysis movies"
   ],
   "cell_type": "markdown",
   "metadata": {}
  },
  {
   "cell_type": "code",
   "execution_count": 1,
   "metadata": {
    "tags": []
   },
   "outputs": [],
   "source": [
    "#import \n",
    "%reload_ext autoreload\n",
    "%autoreload 2\n",
    "import pandas as pd \n",
    "import numpy as np\n",
    "import get_files as gf"
   ]
  },
  {
   "source": [
    "# Bonus 2: Récupérer et extraire le jeu de données fourni de manière automatique"
   ],
   "cell_type": "markdown",
   "metadata": {}
  },
  {
   "cell_type": "code",
   "execution_count": 2,
   "metadata": {
    "tags": []
   },
   "outputs": [
    {
     "output_type": "stream",
     "name": "stdout",
     "text": "data.zip existe déja\ndata existe déja\n"
    }
   ],
   "source": [
    "url_file ='https://stdatalake005.blob.core.windows.net/public/movies_dataset.zip'\n",
    "gf.download_file(url_file)"
   ]
  },
  {
   "source": [
    "# Chargement des données \n"
   ],
   "cell_type": "markdown",
   "metadata": {
    "tags": []
   }
  },
  {
   "source": [
    "\n",
    "# chagement du fichier name.basics.tsv\n",
    "df_name_basics= pd.read_csv('../../data/name.basics.tsv', sep ='\\t', na_values = [\"\\\\N\", \"nan\"])\n",
    "\n",
    "\n",
    "# chargement du fichier title.principals.tsv\n",
    "df_title_principals = pd.read_csv('../../data/title.principals.tsv',sep ='\\t', na_values = [\"\\\\N\", \"nan\"])\n",
    "\n",
    "\n",
    "# chargement du fichier title.basics.tsv\n",
    "df_title_basics = pd.read_csv('../../data/title.basics.tsv', sep ='\\t', na_values = ['\\\\N', 'nan'])\n",
    "\n",
    "# chargement du fichier title.akas.tsv\n",
    "df_title_akas = pd.read_csv('../../data/title.akas.tsv', delimiter ='\\t', na_values =[\"\\\\N\", \"nan\"])\n",
    "\n",
    "\n",
    "# chargement du fichier title.ratings.tsv\n",
    "df_title_ratings= pd.read_csv('../../data/title.ratings.tsv', sep ='\\t', na_values = [\"\\\\N\", \"nan\"])\n",
    "\n",
    "\n"
   ],
   "cell_type": "code",
   "metadata": {
    "tags": []
   },
   "execution_count": 3,
   "outputs": []
  },
  {
   "source": [
    "# 1. Liste des Acteurs par Films"
   ],
   "cell_type": "markdown",
   "metadata": {
    "tags": []
   }
  },
  {
   "cell_type": "code",
   "execution_count": 4,
   "metadata": {},
   "outputs": [],
   "source": [
    "\n",
    "df_name_basics = df_name_basics.drop_duplicates()\n",
    "df_name_basics_filter = df_name_basics.filter(['nconst','primaryName'])\n",
    "\n",
    "df_title_principals = df_title_principals.drop_duplicates()\n",
    "df_title_principals_filter = df_title_principals.filter(['tconst','nconst', 'category'])\n",
    "\n",
    "df_title_principals_actor = df_title_principals_filter.loc[(df_title_principals_filter['category']== 'actor') | (df_title_principals_filter['category']== 'actress')]\n",
    "df_title_principals_actor = df_title_principals_actor.filter(['tconst','nconst'])\n",
    "\n",
    "df_title_basics = df_title_basics.drop_duplicates()\n",
    "df_title_basics_movies = df_title_basics[(df_title_basics.titleType == \"movie\") | (df_title_basics.titleType == \"tvMovie\")]\n",
    "df_title_basics_movies = df_title_basics_movies.filter(['tconst','originalTitle'])\n",
    "\n",
    "df_merge_actor = pd.merge(df_name_basics_filter,df_title_principals_actor, on = \"nconst\", how ='inner')\n",
    "df_merge_actor_movie = pd.merge(df_merge_actor,df_title_basics_movies, on=\"tconst\", how =\"inner\")\n",
    "df_merge_actor_movie_filter = df_merge_actor_movie[[\"originalTitle\",\"primaryName\"]]\n",
    "df_merge_actor_movies = df_merge_actor_movie_filter.groupby(['originalTitle'])['primaryName'].apply(','.join).reset_index()\n",
    "\n",
    "df_merge_actor_movies.to_csv('../OUT/actor_movies.csv', sep ='\\t')\n",
    "\n",
    "del(df_name_basics_filter,df_title_principals_filter,df_title_principals_actor,df_title_basics_movies,df_merge_actor,df_merge_actor_movie_filter,df_merge_actor_movies)\n"
   ]
  },
  {
   "source": [
    "# 2. Liste des Films Américains "
   ],
   "cell_type": "markdown",
   "metadata": {}
  },
  {
   "cell_type": "code",
   "execution_count": 6,
   "metadata": {},
   "outputs": [],
   "source": [
    "# get only movies distriuted in US\n",
    "df_akas_us = df_title_akas.loc[df_title_akas['region'] == \"US\"].filter(['titleId', 'title', 'region'])\n",
    "df_akas_us.rename(columns = {'title': 'title_us', 'region': 'region_us'}, inplace = True)\n",
    "\n",
    "# get only movies distriuted in FR\n",
    "df_akas_fr = df_title_akas.loc[df_title_akas['region'] == \"FR\"].filter(['titleId', 'title', 'region'])\n",
    "df_akas_fr.rename(columns = {'title': 'title_fr', 'region': 'region_fr'}, inplace = True)\n",
    "\n",
    "# merge movies distributed in US and in FR\n",
    "df_akas_merged = pd.merge(df_akas_us, df_akas_fr, how='left', on='titleId')\n",
    "\n",
    "# create new column \"is_title_fr\" to describe if movie has english title or only french title\n",
    "df_akas_merged['is_title_fr'] = np.where(df_akas_merged['title_fr'].isnull(), False, True)\n",
    "\n",
    "# remove US title if FR title exists\n",
    "df_akas_merged['title_us'] = np.where(df_akas_merged['title_fr'].notnull(), '', df_akas_merged['title_us'])\n",
    "\n",
    "# merge with rating\n",
    "df_rating_akas = pd.merge(df_akas_merged, df_title_ratings, how='inner', right_on='tconst', left_on='titleId')\n",
    "\n",
    "# remove columns\n",
    "df_rating_akas = df_rating_akas.filter(['titleId', 'title_fr', 'title_us', 'is_title_fr', 'averageRating'])\n",
    "# generate csv file\n",
    "df_rating_akas.to_csv('../OUT/american_movies.csv',sep ='\\t')\n",
    "\n",
    "del(df_akas_fr, df_akas_us, df_akas_merged, df_rating_akas)\n"
   ]
  },
  {
   "source": [
    "# 3. Les notes moyennes des différents genres"
   ],
   "cell_type": "markdown",
   "metadata": {}
  },
  {
   "cell_type": "code",
   "execution_count": 8,
   "metadata": {},
   "outputs": [],
   "source": [
    "# split column gere by ','\n",
    "df_title_basic_filter = df_title_basics[['tconst', 'genres']].dropna()\n",
    "df_title_basic_genre = pd.DataFrame(df_title_basic_filter.genres.str.split(',').tolist(), index = df_title_basic_filter.tconst).stack()\n",
    "\n",
    "# define 'tconst' as index\n",
    "df_title_basic_genre = df_title_basic_genre.reset_index([0, 'tconst'])\n",
    "\n",
    "# rename columns\n",
    "df_title_basic_genre.columns = ['tconst', 'genre']\n",
    "\n",
    "# merge new df with rating dataframe\n",
    "merge_genre_rating = pd.merge(df_title_basic_genre, df_title_ratings, how = 'inner', on = 'tconst')\n",
    "\n",
    "# keep only titles 'genre' and 'averageRating'\n",
    "merge_genre_rating = merge_genre_rating.filter(['genre', 'averageRating'])\n",
    "\n",
    "# calcul of average by genre\n",
    "avg_rating_genre = merge_genre_rating.groupby('genre').mean('averageRating')\n",
    "\n",
    "avg_rating_genre = avg_rating_genre['averageRating'].round(decimals=2)\n",
    "\n",
    "# avg_rating_genre to csv\n",
    "avg_rating_genre.to_csv('../OUT/genre_average.csv',sep ='\\t')\n",
    "\n",
    "del(df_title_basic_filter,df_title_basic_genre,merge_genre_rating,avg_rating_genre)"
   ]
  },
  {
   "source": [
    "# 4. Note moyenne des acteurs par rapport aux films"
   ],
   "cell_type": "markdown",
   "metadata": {}
  },
  {
   "cell_type": "code",
   "execution_count": 5,
   "metadata": {},
   "outputs": [],
   "source": [
    "\n",
    "df_merge_actor_moy= df_merge_actor_movie[[\"primaryName\",\"originalTitle\",\"tconst\"]]\n",
    "\n",
    "df_title_ratings_filter = df_title_ratings.filter(['tconst', 'averageRating'])\n",
    "\n",
    "df_merge_actor_moy_note = pd.merge(df_merge_actor_moy,df_title_ratings_filter, on ='tconst', how = 'inner')\n",
    "df_merge_actor_moy_note = df_merge_actor_moy_note.groupby(['primaryName'])['averageRating'].mean()\n",
    "\n",
    "df_merge_actor_moy_note.to_csv('../OUT/actor_average.csv',sep ='\\t')\n",
    "\n",
    "\n",
    "\n",
    "\n",
    "\n"
   ]
  },
  {
   "cell_type": "code",
   "execution_count": null,
   "metadata": {},
   "outputs": [],
   "source": []
  }
 ]
}